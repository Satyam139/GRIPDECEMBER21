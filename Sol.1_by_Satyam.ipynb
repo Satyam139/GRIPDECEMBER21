{
 "cells": [
  {
   "cell_type": "markdown",
   "id": "e012ef4c",
   "metadata": {},
   "source": [
    "# **THE SPARKS FOUNDATION**\n",
    "> DATA SCIENCE & BUSINESS ANALYTICS INTERNSHIP\n",
    "\n",
    "### TASK :  Prediction using Supervised MACHINE LEARNING\n",
    "> By : Satyam Dwivedi (Btech, EE , 2022 Batch)\n",
    ">      SGSITS , Indore"
   ]
  },
  {
   "cell_type": "markdown",
   "id": "0f249267",
   "metadata": {},
   "source": [
    "## Problem Statement:\n",
    "> Predict the percentage of an student based on the no. of study hours. What will be the predicted score if a student studies for 9.25 hrs/day?"
   ]
  },
  {
   "cell_type": "markdown",
   "id": "88790d01",
   "metadata": {},
   "source": [
    "## Step1:\n",
    "> Importing the required python libraries\n"
   ]
  },
  {
   "cell_type": "code",
   "execution_count": 2,
   "id": "8befd574",
   "metadata": {},
   "outputs": [],
   "source": [
    "import numpy as np\n",
    "import pandas as pd\n",
    "import matplotlib.pyplot as plt\n",
    "from sklearn import linear_model"
   ]
  },
  {
   "cell_type": "markdown",
   "id": "9eb34ec4",
   "metadata": {},
   "source": [
    "## Step 2:\n",
    "> Reading the data from given URL\n"
   ]
  },
  {
   "cell_type": "code",
   "execution_count": 3,
   "id": "b97f4f2d",
   "metadata": {},
   "outputs": [],
   "source": [
    "data_df = pd.read_csv('http://bit.ly/w-data')"
   ]
  },
  {
   "cell_type": "code",
   "execution_count": 4,
   "id": "944188fa",
   "metadata": {},
   "outputs": [
    {
     "data": {
      "text/html": [
       "<div>\n",
       "<style scoped>\n",
       "    .dataframe tbody tr th:only-of-type {\n",
       "        vertical-align: middle;\n",
       "    }\n",
       "\n",
       "    .dataframe tbody tr th {\n",
       "        vertical-align: top;\n",
       "    }\n",
       "\n",
       "    .dataframe thead th {\n",
       "        text-align: right;\n",
       "    }\n",
       "</style>\n",
       "<table border=\"1\" class=\"dataframe\">\n",
       "  <thead>\n",
       "    <tr style=\"text-align: right;\">\n",
       "      <th></th>\n",
       "      <th>Hours</th>\n",
       "      <th>Scores</th>\n",
       "    </tr>\n",
       "  </thead>\n",
       "  <tbody>\n",
       "    <tr>\n",
       "      <th>0</th>\n",
       "      <td>2.5</td>\n",
       "      <td>21</td>\n",
       "    </tr>\n",
       "    <tr>\n",
       "      <th>1</th>\n",
       "      <td>5.1</td>\n",
       "      <td>47</td>\n",
       "    </tr>\n",
       "    <tr>\n",
       "      <th>2</th>\n",
       "      <td>3.2</td>\n",
       "      <td>27</td>\n",
       "    </tr>\n",
       "    <tr>\n",
       "      <th>3</th>\n",
       "      <td>8.5</td>\n",
       "      <td>75</td>\n",
       "    </tr>\n",
       "    <tr>\n",
       "      <th>4</th>\n",
       "      <td>3.5</td>\n",
       "      <td>30</td>\n",
       "    </tr>\n",
       "    <tr>\n",
       "      <th>5</th>\n",
       "      <td>1.5</td>\n",
       "      <td>20</td>\n",
       "    </tr>\n",
       "    <tr>\n",
       "      <th>6</th>\n",
       "      <td>9.2</td>\n",
       "      <td>88</td>\n",
       "    </tr>\n",
       "    <tr>\n",
       "      <th>7</th>\n",
       "      <td>5.5</td>\n",
       "      <td>60</td>\n",
       "    </tr>\n",
       "    <tr>\n",
       "      <th>8</th>\n",
       "      <td>8.3</td>\n",
       "      <td>81</td>\n",
       "    </tr>\n",
       "    <tr>\n",
       "      <th>9</th>\n",
       "      <td>2.7</td>\n",
       "      <td>25</td>\n",
       "    </tr>\n",
       "    <tr>\n",
       "      <th>10</th>\n",
       "      <td>7.7</td>\n",
       "      <td>85</td>\n",
       "    </tr>\n",
       "    <tr>\n",
       "      <th>11</th>\n",
       "      <td>5.9</td>\n",
       "      <td>62</td>\n",
       "    </tr>\n",
       "    <tr>\n",
       "      <th>12</th>\n",
       "      <td>4.5</td>\n",
       "      <td>41</td>\n",
       "    </tr>\n",
       "    <tr>\n",
       "      <th>13</th>\n",
       "      <td>3.3</td>\n",
       "      <td>42</td>\n",
       "    </tr>\n",
       "    <tr>\n",
       "      <th>14</th>\n",
       "      <td>1.1</td>\n",
       "      <td>17</td>\n",
       "    </tr>\n",
       "    <tr>\n",
       "      <th>15</th>\n",
       "      <td>8.9</td>\n",
       "      <td>95</td>\n",
       "    </tr>\n",
       "    <tr>\n",
       "      <th>16</th>\n",
       "      <td>2.5</td>\n",
       "      <td>30</td>\n",
       "    </tr>\n",
       "    <tr>\n",
       "      <th>17</th>\n",
       "      <td>1.9</td>\n",
       "      <td>24</td>\n",
       "    </tr>\n",
       "    <tr>\n",
       "      <th>18</th>\n",
       "      <td>6.1</td>\n",
       "      <td>67</td>\n",
       "    </tr>\n",
       "    <tr>\n",
       "      <th>19</th>\n",
       "      <td>7.4</td>\n",
       "      <td>69</td>\n",
       "    </tr>\n",
       "    <tr>\n",
       "      <th>20</th>\n",
       "      <td>2.7</td>\n",
       "      <td>30</td>\n",
       "    </tr>\n",
       "    <tr>\n",
       "      <th>21</th>\n",
       "      <td>4.8</td>\n",
       "      <td>54</td>\n",
       "    </tr>\n",
       "    <tr>\n",
       "      <th>22</th>\n",
       "      <td>3.8</td>\n",
       "      <td>35</td>\n",
       "    </tr>\n",
       "    <tr>\n",
       "      <th>23</th>\n",
       "      <td>6.9</td>\n",
       "      <td>76</td>\n",
       "    </tr>\n",
       "    <tr>\n",
       "      <th>24</th>\n",
       "      <td>7.8</td>\n",
       "      <td>86</td>\n",
       "    </tr>\n",
       "  </tbody>\n",
       "</table>\n",
       "</div>"
      ],
      "text/plain": [
       "    Hours  Scores\n",
       "0     2.5      21\n",
       "1     5.1      47\n",
       "2     3.2      27\n",
       "3     8.5      75\n",
       "4     3.5      30\n",
       "5     1.5      20\n",
       "6     9.2      88\n",
       "7     5.5      60\n",
       "8     8.3      81\n",
       "9     2.7      25\n",
       "10    7.7      85\n",
       "11    5.9      62\n",
       "12    4.5      41\n",
       "13    3.3      42\n",
       "14    1.1      17\n",
       "15    8.9      95\n",
       "16    2.5      30\n",
       "17    1.9      24\n",
       "18    6.1      67\n",
       "19    7.4      69\n",
       "20    2.7      30\n",
       "21    4.8      54\n",
       "22    3.8      35\n",
       "23    6.9      76\n",
       "24    7.8      86"
      ]
     },
     "execution_count": 4,
     "metadata": {},
     "output_type": "execute_result"
    }
   ],
   "source": [
    "data_df"
   ]
  },
  {
   "cell_type": "markdown",
   "id": "d2135f06",
   "metadata": {},
   "source": [
    "## Step 3:\n",
    "> Determining `Features` (attributes) and `Labels` (output)... \n",
    "> here we only have one feature i.e. `Hours` and one label i.e. `Scores`"
   ]
  },
  {
   "cell_type": "code",
   "execution_count": 5,
   "id": "d2480ad5",
   "metadata": {
    "scrolled": true
   },
   "outputs": [
    {
     "data": {
      "text/plain": [
       "(pandas.core.series.Series, pandas.core.series.Series)"
      ]
     },
     "execution_count": 5,
     "metadata": {},
     "output_type": "execute_result"
    }
   ],
   "source": [
    "X = data_df['Hours']\n",
    "Y = data_df['Scores']\n",
    "type(X), type(Y)\n"
   ]
  },
  {
   "cell_type": "markdown",
   "id": "c65269ee",
   "metadata": {},
   "source": [
    "## Step 4:\n",
    "> Visualising the given data & finding relationship btw features and labels"
   ]
  },
  {
   "cell_type": "code",
   "execution_count": 6,
   "id": "a7b6451e",
   "metadata": {},
   "outputs": [
    {
     "data": {
      "text/plain": [
       "Text(0, 0.5, 'SCORES')"
      ]
     },
     "execution_count": 6,
     "metadata": {},
     "output_type": "execute_result"
    },
    {
     "data": {
      "image/png": "[encoded data removed]",
      "text/plain": [
       "<Figure size 432x288 with 1 Axes>"
      ]
     },
     "metadata": {
      "needs_background": "light"
     },
     "output_type": "display_data"
    }
   ],
   "source": [
    "plt.scatter(X,Y)\n",
    "plt.xlabel('HOURS')\n",
    "plt.ylabel('SCORES')"
   ]
  },
  {
   "cell_type": "code",
   "execution_count": 7,
   "id": "ad73f361",
   "metadata": {},
   "outputs": [],
   "source": [
    "X = X.values.reshape(len(X),1)\n",
    "Y = Y.values.reshape(len(Y),1)\n",
    "#print(X,Y)"
   ]
  },
  {
   "cell_type": "markdown",
   "id": "634d712f",
   "metadata": {},
   "source": [
    "## Step 5:\n",
    "> Now divide the data in training & test set"
   ]
  },
  {
   "cell_type": "code",
   "execution_count": 8,
   "id": "3cb2b2dd",
   "metadata": {},
   "outputs": [],
   "source": [
    "X_train = X[:20]\n",
    "X_test = X[20:]\n",
    "Y_train = Y[:20]\n",
    "Y_test = Y[20:]"
   ]
  },
  {
   "cell_type": "markdown",
   "id": "1a87d4d5",
   "metadata": {},
   "source": [
    "## Step 6:\n",
    "> Training the model"
   ]
  },
  {
   "cell_type": "code",
   "execution_count": 9,
   "id": "ae2b5bb7",
   "metadata": {},
   "outputs": [
    {
     "name": "stdout",
     "output_type": "stream",
     "text": [
      "********training completed*********\n"
     ]
    }
   ],
   "source": [
    "my_model = linear_model.LinearRegression()\n",
    "my_model.fit(X_train,Y_train)\n",
    "print('********training completed*********')"
   ]
  },
  {
   "cell_type": "markdown",
   "id": "a5e41915",
   "metadata": {},
   "source": [
    "## Step 7\n",
    "> Predicting the score by no. of study hours"
   ]
  },
  {
   "cell_type": "code",
   "execution_count": 10,
   "id": "f04809c7",
   "metadata": {},
   "outputs": [
    {
     "data": {
      "text/plain": [
       "(array([[28.73632549],\n",
       "        [48.72913629],\n",
       "        [39.2087502 ],\n",
       "        [68.72194709],\n",
       "        [77.29029458]]),\n",
       " array([[30],\n",
       "        [54],\n",
       "        [35],\n",
       "        [76],\n",
       "        [86]], dtype=int64))"
      ]
     },
     "execution_count": 10,
     "metadata": {},
     "output_type": "execute_result"
    }
   ],
   "source": [
    "Y_predicted= my_model.predict(X_test)\n",
    "Y_predicted , Y_test"
   ]
  },
  {
   "cell_type": "markdown",
   "id": "8b4a04a2",
   "metadata": {},
   "source": [
    "## Step 8:\n",
    "> Visualising true value & predicted values on a 2D plot"
   ]
  },
  {
   "cell_type": "code",
   "execution_count": 11,
   "id": "6e7c7c18",
   "metadata": {},
   "outputs": [
    {
     "data": {
      "text/plain": [
       "<matplotlib.collections.PathCollection at 0x14a1d2fd7c0>"
      ]
     },
     "execution_count": 11,
     "metadata": {},
     "output_type": "execute_result"
    },
    {
     "data": {
      "image/png": "[encoded data removed]",
      "text/plain": [
       "<Figure size 432x288 with 1 Axes>"
      ]
     },
     "metadata": {
      "needs_background": "light"
     },
     "output_type": "display_data"
    }
   ],
   "source": [
    "plt.plot(X_test, Y_predicted,'r--*')\n",
    "plt.title('scores vs study hours')\n",
    "plt.xlabel('hours')\n",
    "plt.ylabel('score')\n",
    "plt.scatter(X_test,Y_test)"
   ]
  },
  {
   "cell_type": "markdown",
   "id": "6fc0e3d9",
   "metadata": {},
   "source": [
    "## Step 9:\n",
    "> Calculating accuracy and error in our model"
   ]
  },
  {
   "cell_type": "code",
   "execution_count": 12,
   "id": "affbe6fc",
   "metadata": {},
   "outputs": [],
   "source": [
    "from sklearn.metrics import mean_squared_error"
   ]
  },
  {
   "cell_type": "code",
   "execution_count": 13,
   "id": "a3042152",
   "metadata": {},
   "outputs": [
    {
     "data": {
      "text/plain": [
       "35.18429566473721"
      ]
     },
     "execution_count": 13,
     "metadata": {},
     "output_type": "execute_result"
    }
   ],
   "source": [
    "mean_squared_error(Y_test,Y_predicted)"
   ]
  },
  {
   "cell_type": "code",
   "execution_count": 14,
   "id": "3c840b7a",
   "metadata": {},
   "outputs": [],
   "source": [
    "from sklearn.metrics import mean_absolute_error"
   ]
  },
  {
   "cell_type": "code",
   "execution_count": 15,
   "id": "0b4781ee",
   "metadata": {},
   "outputs": [
    {
     "data": {
      "text/plain": [
       "5.346209347444651"
      ]
     },
     "execution_count": 15,
     "metadata": {},
     "output_type": "execute_result"
    }
   ],
   "source": [
    "mean_absolute_error(Y_test,Y_predicted)"
   ]
  },
  {
   "cell_type": "markdown",
   "id": "99294ad0",
   "metadata": {},
   "source": [
    "## Step 10:\n",
    "> Final answer"
   ]
  },
  {
   "cell_type": "code",
   "execution_count": 16,
   "id": "4d4a3821",
   "metadata": {},
   "outputs": [
    {
     "data": {
      "text/plain": [
       "array([[91.09485442]])"
      ]
     },
     "execution_count": 16,
     "metadata": {},
     "output_type": "execute_result"
    }
   ],
   "source": [
    "hours = 9.25\n",
    "pr_score = my_model.predict([[9.25]])\n",
    "pr_score"
   ]
  },
  {
   "cell_type": "code",
   "execution_count": 17,
   "id": "3a5f2bff",
   "metadata": {},
   "outputs": [
    {
     "data": {
      "text/plain": [
       "array([[26.83224828],\n",
       "       [51.58525212],\n",
       "       [98.23514399]])"
      ]
     },
     "execution_count": 17,
     "metadata": {},
     "output_type": "execute_result"
    }
   ],
   "source": [
    "my_model.predict([[2.5],[5.1],[10]])"
   ]
  },
  {
   "cell_type": "markdown",
   "id": "4e7f610c",
   "metadata": {},
   "source": [
    "# THANK YOU  FOR WATCHING THIS VIDEO...\n",
    "# HAVE A GREAT DAY >>\n",
    "# ` : ) ` "
   ]
  },
  {
   "cell_type": "code",
   "execution_count": null,
   "id": "1a801df9",
   "metadata": {},
   "outputs": [],
   "source": []
  }
 ],
 "metadata": {
  "kernelspec": {
   "display_name": "Python 3 (ipykernel)",
   "language": "python",
   "name": "python3"
  },
  "language_info": {
   "codemirror_mode": {
    "name": "ipython",
    "version": 3
   },
   "file_extension": ".py",
   "mimetype": "text/x-python",
   "name": "python",
   "nbconvert_exporter": "python",
   "pygments_lexer": "ipython3",
   "version": "3.9.4"
  }
 },
 "nbformat": 4,
 "nbformat_minor": 5
}
